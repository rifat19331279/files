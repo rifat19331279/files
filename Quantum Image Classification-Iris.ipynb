{
 "cells": [
  {
   "cell_type": "code",
   "execution_count": 1,
   "metadata": {},
   "outputs": [],
   "source": [
    "from sklearn import model_selection, datasets, svm\n",
    "from qiskit import QuantumCircuit, Aer, IBMQ, QuantumRegister, ClassicalRegister\n",
    "import numpy as np\n",
    "import qiskit\n",
    "import copy\n",
    "import matplotlib.pyplot as plt"
   ]
  },
  {
   "cell_type": "code",
   "execution_count": 2,
   "metadata": {},
   "outputs": [],
   "source": [
    "iris=datasets.load_iris()\n",
    "x=iris.data[0:100]\n",
    "y=iris.target[0:100]\n",
    "x_train, x_test, y_train, y_test= model_selection.train_test_split(x, y, test_size=0.2, random_state=42)"
   ]
  },
  {
   "cell_type": "code",
   "execution_count": 3,
   "metadata": {},
   "outputs": [
    {
     "data": {
      "text/plain": [
       "array([1, 1, 0, 0, 1, 0, 0, 1, 0, 1, 0, 0, 1, 0, 1, 0, 1, 1, 0, 0, 0, 0,\n",
       "       0, 1, 0, 0, 1, 0, 1, 0, 0, 0, 0, 0, 0, 1, 0, 1, 0, 1, 1, 1, 1, 0,\n",
       "       1, 1, 0, 1, 1, 1, 1, 0, 1, 0, 1, 1, 1, 0, 1, 1, 1, 1, 0, 0, 0, 1,\n",
       "       0, 0, 0, 1, 1, 1, 1, 1, 0, 1, 1, 0, 1, 1])"
      ]
     },
     "execution_count": 3,
     "metadata": {},
     "output_type": "execute_result"
    }
   ],
   "source": [
    "y_train"
   ]
  },
  {
   "cell_type": "code",
   "execution_count": 4,
   "metadata": {},
   "outputs": [
    {
     "data": {
      "text/plain": [
       "(80, 4)"
      ]
     },
     "execution_count": 4,
     "metadata": {},
     "output_type": "execute_result"
    }
   ],
   "source": [
    "x_train[0:5]\n",
    "x_train.shape"
   ]
  },
  {
   "cell_type": "code",
   "execution_count": 5,
   "metadata": {},
   "outputs": [
    {
     "data": {
      "text/plain": [
       "dtype('float64')"
      ]
     },
     "execution_count": 5,
     "metadata": {},
     "output_type": "execute_result"
    }
   ],
   "source": [
    "x_train.dtype"
   ]
  },
  {
   "cell_type": "code",
   "execution_count": 6,
   "metadata": {},
   "outputs": [],
   "source": [
    "N=4"
   ]
  },
  {
   "cell_type": "code",
   "execution_count": 7,
   "metadata": {},
   "outputs": [],
   "source": [
    "def feature_map(X):\n",
    "    q=QuantumRegister(N)\n",
    "    c=ClassicalRegister(1)\n",
    "    qc=QuantumCircuit(q,c)\n",
    "\n",
    "    for i, x in enumerate(X):\n",
    "        qc.rx(x, i)\n",
    "    return qc, c"
   ]
  },
  {
   "cell_type": "code",
   "execution_count": 8,
   "metadata": {},
   "outputs": [],
   "source": [
    "def variational_circuit(qc, theta):\n",
    "    \n",
    "    for i in range(N-1):\n",
    "        qc.cx(i,i+1)\n",
    "    qc.cx(N-1, 0)\n",
    "    for i in range(N):\n",
    "        qc.ry(theta[i], i)\n",
    "    return qc"
   ]
  },
  {
   "cell_type": "code",
   "execution_count": 9,
   "metadata": {},
   "outputs": [],
   "source": [
    "def quantum_nn(x, theta, simulator=True):\n",
    "    qc,c=feature_map(x)\n",
    "    qc.barrier()\n",
    "    qc=variational_circuit(qc, theta)\n",
    "    qc.barrier()\n",
    "    qc.measure(0,c)\n",
    "\n",
    "\n",
    "    shots=1E4\n",
    "    backend=Aer.get_backend('qasm_simulator')\n",
    "    job=qiskit.execute(qc, backend, shots=shots)\n",
    "    result=job.result()\n",
    "    counts=result.get_counts()\n",
    "    \n",
    "    return counts['1']/shots"
   ]
  },
  {
   "cell_type": "code",
   "execution_count": 10,
   "metadata": {},
   "outputs": [],
   "source": [
    "def loss_function(prediction, target):\n",
    "    return (prediction-target)**2"
   ]
  },
  {
   "cell_type": "code",
   "execution_count": 11,
   "metadata": {},
   "outputs": [],
   "source": [
    "def gradient(x, y, theta):\n",
    "    \n",
    "    delta=0.01\n",
    "    grad=[]\n",
    "    for i in range(len(theta)):\n",
    "        dtheta=copy.copy(theta)\n",
    "        dtheta[i]+=delta\n",
    "        \n",
    "        pred1=quantum_nn(x, dtheta)\n",
    "        pred2=quantum_nn(x, theta)\n",
    "        \n",
    "        grad.append((loss_function(pred1,y)-loss_function(pred2,y))/delta)\n",
    "        \n",
    "        return np.array(grad)"
   ]
  },
  {
   "cell_type": "code",
   "execution_count": 12,
   "metadata": {},
   "outputs": [],
   "source": [
    "def accuracy(x, y, theta):\n",
    "    counter=0\n",
    "    for x_i, y_i in zip(x,y):\n",
    "        prediction= quantum_nn(x_i, theta)\n",
    "        \n",
    "        if prediction <0.5 and y_i==0:\n",
    "            counter +=1\n",
    "        elif prediction >=0.5 and y_i==1:\n",
    "            counter +=1\n",
    "    return counter/len(y)"
   ]
  },
  {
   "cell_type": "code",
   "execution_count": 13,
   "metadata": {},
   "outputs": [
    {
     "name": "stdout",
     "output_type": "stream",
     "text": [
      "Epoch \t Loss \t Training accuracy\n",
      "0 \t 0.281940 \t 0.200000\n",
      "1 \t 0.280463 \t 0.212500\n",
      "2 \t 0.276035 \t 0.200000\n",
      "3 \t 0.278977 \t 0.212500\n",
      "4 \t 0.274834 \t 0.175000\n",
      "5 \t 0.279942 \t 0.187500\n",
      "6 \t 0.285846 \t 0.162500\n",
      "7 \t 0.283381 \t 0.200000\n",
      "8 \t 0.280511 \t 0.200000\n",
      "9 \t 0.279539 \t 0.162500\n",
      "10 \t 0.282218 \t 0.200000\n",
      "11 \t 0.278755 \t 0.187500\n",
      "12 \t 0.276930 \t 0.225000\n",
      "13 \t 0.275372 \t 0.187500\n",
      "14 \t 0.272807 \t 0.237500\n",
      "15 \t 0.273426 \t 0.175000\n",
      "16 \t 0.271082 \t 0.200000\n",
      "17 \t 0.264990 \t 0.275000\n",
      "18 \t 0.258913 \t 0.187500\n",
      "19 \t 0.261101 \t 0.225000\n"
     ]
    }
   ],
   "source": [
    "eta=0.01\n",
    "loss_list=[]\n",
    "theta=np.ones(N)\n",
    "print('Epoch \\t Loss \\t Training accuracy')\n",
    "\n",
    "for i in range(20):\n",
    "    loss_temp=[]\n",
    "    for x_i, y_i in zip(x_train, y_train):\n",
    "\n",
    "        prediction= quantum_nn(x_i, theta)\n",
    "        loss_temp.append(loss_function(prediction, y_i))\n",
    "        theta= theta- eta * gradient(x_i, y_i, theta)\n",
    "    \n",
    "    loss_list.append(np.mean(loss_temp))\n",
    "    acc = accuracy(x_train, y_train, theta)\n",
    "    \n",
    "    print(f'{i} \\t {loss_list[-1]:3f} \\t {acc:3f}')"
   ]
  },
  {
   "cell_type": "code",
   "execution_count": 14,
   "metadata": {},
   "outputs": [
    {
     "data": {
      "image/png": "[encoded data removed]",
      "text/plain": [
       "<Figure size 432x288 with 1 Axes>"
      ]
     },
     "metadata": {
      "needs_background": "light"
     },
     "output_type": "display_data"
    }
   ],
   "source": [
    "plt.plot(loss_list)\n",
    "plt.xlabel('Epoch')\n",
    "plt.ylabel('Loss')\n",
    "plt.show()"
   ]
  },
  {
   "cell_type": "code",
   "execution_count": 15,
   "metadata": {},
   "outputs": [
    {
     "data": {
      "text/plain": [
       "0.25"
      ]
     },
     "execution_count": 15,
     "metadata": {},
     "output_type": "execute_result"
    }
   ],
   "source": [
    "accuracy(x_test, y_test, theta)"
   ]
  },
  {
   "cell_type": "code",
   "execution_count": 16,
   "metadata": {},
   "outputs": [
    {
     "data": {
      "text/plain": [
       "SVC()"
      ]
     },
     "execution_count": 16,
     "metadata": {},
     "output_type": "execute_result"
    }
   ],
   "source": [
    "clf=svm.SVC()\n",
    "clf.fit(x_train, y_train)"
   ]
  },
  {
   "cell_type": "code",
   "execution_count": 17,
   "metadata": {},
   "outputs": [
    {
     "name": "stdout",
     "output_type": "stream",
     "text": [
      "[1 1 1 0 0 0 0 1 0 0 0 0 1 0 1 0 1 1 0 0]\n",
      "[1 1 1 0 0 0 0 1 0 0 0 0 1 0 1 0 1 1 0 0]\n"
     ]
    }
   ],
   "source": [
    "y_pred= clf.predict(x_test)\n",
    "print(y_pred)\n",
    "print(y_test)"
   ]
  },
  {
   "cell_type": "code",
   "execution_count": 18,
   "metadata": {},
   "outputs": [
    {
     "name": "stdout",
     "output_type": "stream",
     "text": [
      "accuracy 1.0 \n",
      "\n"
     ]
    }
   ],
   "source": [
    "from sklearn import metrics\n",
    "print(\"accuracy\", metrics.accuracy_score(y_test, y_pred), \"\\n\")"
   ]
  },
  {
   "cell_type": "code",
   "execution_count": null,
   "metadata": {},
   "outputs": [],
   "source": []
  }
 ],
 "metadata": {
  "kernelspec": {
   "display_name": "Python 3",
   "language": "python",
   "name": "python3"
  },
  "language_info": {
   "codemirror_mode": {
    "name": "ipython",
    "version": 3
   },
   "file_extension": ".py",
   "mimetype": "text/x-python",
   "name": "python",
   "nbconvert_exporter": "python",
   "pygments_lexer": "ipython3",
   "version": "3.8.3"
  }
 },
 "nbformat": 4,
 "nbformat_minor": 4
}
