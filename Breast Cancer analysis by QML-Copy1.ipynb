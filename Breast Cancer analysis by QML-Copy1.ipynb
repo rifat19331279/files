{
 "cells": [
  {
   "cell_type": "code",
   "execution_count": 1,
   "metadata": {},
   "outputs": [
    {
     "name": "stderr",
     "output_type": "stream",
     "text": [
      "C:\\ProgramData\\Anaconda3\\lib\\site-packages\\qiskit\\aqua\\operators\\operator_globals.py:46: DeprecationWarning: `from_label` is deprecated and will be removed no earlier than 3 months after the release date. Use Pauli(label) instead.\n",
      "  X = make_immutable(PrimitiveOp(Pauli.from_label('X')))\n"
     ]
    }
   ],
   "source": [
    "from qiskit.ml.datasets import breast_cancer\n",
    "from qiskit import QuantumCircuit\n",
    "from qiskit.aqua.components.optimizers import COBYLA\n",
    "from qiskit.circuit.library import ZFeatureMap, RealAmplitudes\n",
    "import numpy as np\n",
    "import matplotlib.pyplot as plt\n",
    "from qiskit.quantum_info import Statevector\n",
    "%matplotlib inline"
   ]
  },
  {
   "cell_type": "code",
   "execution_count": 2,
   "metadata": {},
   "outputs": [
    {
     "data": {
      "image/png": "[encoded data removed]",
      "text/plain": [
       "<Figure size 432x288 with 1 Axes>"
      ]
     },
     "metadata": {
      "needs_background": "light"
     },
     "output_type": "display_data"
    },
    {
     "name": "stdout",
     "output_type": "stream",
     "text": [
      "['A', 'B']\n"
     ]
    }
   ],
   "source": [
    "training_size=20\n",
    "test_size=10\n",
    "\n",
    "n=2\n",
    "_, training_input, test_input, class_labels= \\\n",
    "            breast_cancer(training_size=training_size, test_size=test_size, n=n, plot_data=True)\n",
    "print(class_labels)"
   ]
  },
  {
   "cell_type": "code",
   "execution_count": 3,
   "metadata": {},
   "outputs": [
    {
     "name": "stderr",
     "output_type": "stream",
     "text": [
      "<ipython-input-3-505e1e68f7a9>:5: DeprecationWarning: The QuantumCircuit.combine() method is being deprecated. Use the compose() method which is more flexible w.r.t circuit register compatibility.\n",
      "  circuit=feature_map.combine(var_form)\n"
     ]
    },
    {
     "data": {
      "image/png": "[encoded data removed]",
      "text/plain": [
       "<Figure size 447.652x144.48 with 1 Axes>"
      ]
     },
     "execution_count": 3,
     "metadata": {},
     "output_type": "execute_result"
    }
   ],
   "source": [
    "sv=Statevector.from_label('0'*n)\n",
    "feature_map=ZFeatureMap(n,reps=2)\n",
    "var_form=RealAmplitudes(n,reps=2)\n",
    "\n",
    "circuit=feature_map.combine(var_form)\n",
    "circuit.draw(output='mpl')"
   ]
  },
  {
   "cell_type": "code",
   "execution_count": 4,
   "metadata": {},
   "outputs": [],
   "source": [
    "def get_data_dic(params, x):\n",
    "    parameter={}\n",
    "    for i, p in enumerate(feature_map.ordered_parameters):\n",
    "        parameter[p]=x[i]\n",
    "    for i, p in enumerate(var_form.ordered_parameters):\n",
    "        parameter[p]=params[i]\n",
    "    return parameter"
   ]
  },
  {
   "cell_type": "code",
   "execution_count": 5,
   "metadata": {},
   "outputs": [
    {
     "data": {
      "image/png": "[encoded data removed]",
      "text/plain": [
       "<Figure size 1109.85x144.48 with 1 Axes>"
      ]
     },
     "execution_count": 5,
     "metadata": {},
     "output_type": "execute_result"
    }
   ],
   "source": [
    "data=[0.1, 1.2]\n",
    "params=np.array([0.1, 1.2, 0.02, 0.1,0.1, 1.2, 0.02, 0.1])\n",
    "circ_=circuit.assign_parameters(get_data_dic(params, data))\n",
    "circ_.draw(output='mpl', plot_barriers=True)"
   ]
  },
  {
   "cell_type": "code",
   "execution_count": 6,
   "metadata": {},
   "outputs": [],
   "source": [
    "def assign_label(bit_string, class_labels):\n",
    "    hamming_weight=sum([int(k) for k in list(bit_string)])\n",
    "    is_odd_parity=hamming_weight & 1\n",
    "    if is_odd_parity:\n",
    "        return class_labels[1]\n",
    "    else:\n",
    "        return class_labels[0]"
   ]
  },
  {
   "cell_type": "code",
   "execution_count": 7,
   "metadata": {},
   "outputs": [],
   "source": [
    "def return_probabilities(counts, class_labels):\n",
    "    shots=sum(counts.values())\n",
    "    result={class_labels[0]:0, class_labels[1]:0}\n",
    "    for key,item in counts.items():\n",
    "        label=assign_label(key,class_labels)\n",
    "        result[label] +=counts[key]/shots\n",
    "    return result"
   ]
  },
  {
   "cell_type": "code",
   "execution_count": 8,
   "metadata": {},
   "outputs": [
    {
     "data": {
      "text/plain": [
       "{'A': 0.5, 'B': 0.5}"
      ]
     },
     "execution_count": 8,
     "metadata": {},
     "output_type": "execute_result"
    }
   ],
   "source": [
    "return_probabilities({'00':10,'10':10}, class_labels)"
   ]
  },
  {
   "cell_type": "code",
   "execution_count": 9,
   "metadata": {},
   "outputs": [],
   "source": [
    "def classify(x_list, params, class_labels):\n",
    "    qc_list=[]\n",
    "    for x in x_list:\n",
    "        circ_=circuit.assign_parameters(get_data_dic(params, x))\n",
    "        qc=sv.evolve(circ_)\n",
    "        qc_list +=[qc]\n",
    "    probs=[]\n",
    "    for qc in qc_list:\n",
    "        counts=qc.probabilities_dict()\n",
    "        prob=return_probabilities(counts,class_labels)\n",
    "        probs+=[prob]\n",
    "    return probs"
   ]
  },
  {
   "cell_type": "code",
   "execution_count": 10,
   "metadata": {},
   "outputs": [
    {
     "data": {
      "text/plain": [
       "[{'A': 0.8559447255664226, 'B': 0.14405527443357735}]"
      ]
     },
     "execution_count": 10,
     "metadata": {},
     "output_type": "execute_result"
    }
   ],
   "source": [
    "x=np.asarray([[0.5,0.5]])\n",
    "classify(x, params=np.array([0.8,-0.5,1.5,0, 5,0.8,-0.5,1.5,0, 5]),class_labels=class_labels)"
   ]
  },
  {
   "cell_type": "code",
   "execution_count": 11,
   "metadata": {},
   "outputs": [],
   "source": [
    "def cost_estimate_sigmoid(probs, expected_label):\n",
    "    p=probs.get(expected_label)\n",
    "    sig=None\n",
    "    if np.isclose(p,0.0):\n",
    "        sig=1\n",
    "    elif np.isclose(p,1.0):\n",
    "        sig=0\n",
    "    else:\n",
    "        denominator=np.sqrt(2*p*(1-p))\n",
    "        x=np.sqrt(200)*(0.5-p)/denominator\n",
    "        sig=1/(1+np.exp(-x))\n",
    "    return sig"
   ]
  },
  {
   "cell_type": "code",
   "execution_count": 12,
   "metadata": {},
   "outputs": [
    {
     "data": {
      "image/png": "[encoded data removed]",
      "text/plain": [
       "<Figure size 432x288 with 1 Axes>"
      ]
     },
     "metadata": {
      "needs_background": "light"
     },
     "output_type": "display_data"
    }
   ],
   "source": [
    "x=np.linspace(0,1,20)\n",
    "y=[cost_estimate_sigmoid({'A':x_,'B':1-x_}, 'A') for x_ in x]\n",
    "plt.plot(x,y)\n",
    "plt.xlabel('probability of assigning the correct class')\n",
    "plt.ylabel('cost value')\n",
    "plt.show()"
   ]
  },
  {
   "cell_type": "code",
   "execution_count": 13,
   "metadata": {},
   "outputs": [],
   "source": [
    "def cost_function(training_input, class_labels, params, shots=100, print_value=False):\n",
    "    cost=0\n",
    "    training_labels=[]\n",
    "    traning_samples=[]\n",
    "    for label,samples in training_input.items():\n",
    "        for sample in samples:\n",
    "            training_labels += [label]\n",
    "            traning_samples += [sample]\n",
    "    \n",
    "    probs=classify(traning_samples,params,class_labels)\n",
    "    for i, prob in enumerate(probs):\n",
    "        cost += cost_estimate_sigmoid(prob,training_labels[i])\n",
    "    cost /=len(traning_samples)\n",
    "    \n",
    "    if print_value:\n",
    "        print('%.4f' % cost)\n",
    "        \n",
    "    return cost"
   ]
  },
  {
   "cell_type": "code",
   "execution_count": 14,
   "metadata": {},
   "outputs": [
    {
     "data": {
      "text/plain": [
       "0.8298316032546813"
      ]
     },
     "execution_count": 14,
     "metadata": {},
     "output_type": "execute_result"
    }
   ],
   "source": [
    "cost_function(training_input,class_labels,params)"
   ]
  },
  {
   "cell_type": "code",
   "execution_count": 15,
   "metadata": {},
   "outputs": [
    {
     "name": "stdout",
     "output_type": "stream",
     "text": [
      "0.5054\n",
      "0.5024\n",
      "0.5113\n",
      "0.5020\n",
      "0.4934\n",
      "0.4381\n",
      "0.7900\n",
      "0.4381\n",
      "0.4381\n",
      "0.1930\n",
      "0.2331\n",
      "0.2398\n",
      "0.2625\n",
      "0.3239\n",
      "0.0988\n",
      "0.0922\n",
      "0.2366\n",
      "0.4662\n",
      "0.1231\n",
      "0.4143\n",
      "0.1637\n",
      "0.1313\n",
      "0.1758\n",
      "0.1782\n",
      "0.0906\n",
      "0.0886\n",
      "0.1699\n",
      "0.0956\n",
      "0.1221\n",
      "0.0874\n",
      "0.1454\n",
      "0.0940\n",
      "0.0948\n",
      "0.1060\n",
      "0.1160\n",
      "0.0879\n",
      "0.0880\n",
      "0.0927\n",
      "0.0872\n",
      "0.0917\n",
      "0.0867\n",
      "0.0922\n",
      "0.0866\n",
      "0.0876\n",
      "0.0869\n",
      "0.0896\n",
      "0.0883\n",
      "0.0865\n",
      "0.0871\n",
      "0.0865\n",
      "0.0864\n",
      "0.0865\n",
      "0.0864\n",
      "0.0866\n",
      "0.0864\n",
      "0.0873\n",
      "0.0861\n",
      "0.0861\n",
      "0.0860\n",
      "0.0860\n",
      "0.0861\n",
      "0.0861\n",
      "0.0860\n",
      "0.0860\n",
      "0.0859\n",
      "0.0858\n",
      "0.0857\n",
      "0.0856\n",
      "0.0855\n",
      "0.0854\n",
      "0.0853\n",
      "0.0852\n",
      "0.0852\n",
      "0.0851\n",
      "0.0851\n",
      "0.0851\n",
      "0.0850\n",
      "0.0849\n",
      "0.0849\n",
      "0.0849\n",
      "0.0849\n",
      "0.0849\n",
      "0.0849\n",
      "0.0848\n",
      "0.0848\n",
      "0.0847\n",
      "0.0848\n",
      "0.0848\n",
      "0.0847\n",
      "0.0846\n",
      "0.0846\n",
      "0.0846\n",
      "0.0847\n",
      "0.0846\n",
      "0.0845\n",
      "0.0845\n",
      "0.0844\n",
      "0.0845\n",
      "0.0846\n",
      "0.0844\n",
      "\n",
      "opt_params [5.96651667 0.68398688 5.31282381 5.65492124 4.9984635  1.72968436\n",
      " 5.01231438 0.22170083]\n",
      "opt_value 0.08441287583193458\n"
     ]
    }
   ],
   "source": [
    "optimizer=COBYLA(maxiter=100)\n",
    "objective_function= lambda params: cost_function(training_input, class_labels, params, print_value=True)\n",
    "np.random.seed(137)\n",
    "init_params= 2*np.pi*np.random.rand(n*(1)*2*2)\n",
    "opt_params, value, _ =optimizer.optimize(len(init_params), objective_function, initial_point=init_params)\n",
    "print()\n",
    "print('opt_params', opt_params)\n",
    "print('opt_value', value)"
   ]
  },
  {
   "cell_type": "code",
   "execution_count": 16,
   "metadata": {},
   "outputs": [
    {
     "name": "stdout",
     "output_type": "stream",
     "text": [
      "---------------------------------------------\n",
      "Data point: [-0.10389794  0.17924751]\n",
      "Label: A\n",
      "Assigned: A\n",
      "Probabilities {'A': 0.9278548893496785, 'B': 0.07214511065032167}\n",
      "Classification CORRECT\n",
      "---------------------------------------------\n",
      "Data point: [-0.53086407 -0.4573074 ]\n",
      "Label: A\n",
      "Assigned: A\n",
      "Probabilities {'A': 0.5218317508227095, 'B': 0.47816824917729045}\n",
      "Classification CORRECT\n",
      "---------------------------------------------\n",
      "Data point: [-0.21040012 -0.42492679]\n",
      "Label: A\n",
      "Assigned: A\n",
      "Probabilities {'A': 0.8320443851077399, 'B': 0.16795561489226007}\n",
      "Classification CORRECT\n",
      "---------------------------------------------\n",
      "Data point: [-0.02115007 -0.46893251]\n",
      "Label: A\n",
      "Assigned: A\n",
      "Probabilities {'A': 0.9092298455816468, 'B': 0.09077015441835318}\n",
      "Classification CORRECT\n",
      "---------------------------------------------\n",
      "Data point: [-0.20818445 -0.4872755 ]\n",
      "Label: A\n",
      "Assigned: A\n",
      "Probabilities {'A': 0.827214322179374, 'B': 0.17278567782062604}\n",
      "Classification CORRECT\n",
      "---------------------------------------------\n",
      "Data point: [ 0.15707835 -0.47624366]\n",
      "Label: A\n",
      "Assigned: A\n",
      "Probabilities {'A': 0.8791235397444501, 'B': 0.12087646025554992}\n",
      "Classification CORRECT\n",
      "---------------------------------------------\n",
      "Data point: [0.11627517 0.72088055]\n",
      "Label: A\n",
      "Assigned: A\n",
      "Probabilities {'A': 0.8594955287787479, 'B': 0.14050447122125204}\n",
      "Classification CORRECT\n",
      "---------------------------------------------\n",
      "Data point: [-0.06843964 -0.52360461]\n",
      "Label: A\n",
      "Assigned: A\n",
      "Probabilities {'A': 0.8927461090675937, 'B': 0.1072538909324064}\n",
      "Classification CORRECT\n",
      "---------------------------------------------\n",
      "Data point: [-0.54432956 -0.51392144]\n",
      "Label: A\n",
      "Assigned: A\n",
      "Probabilities {'A': 0.5054403147729024, 'B': 0.4945596852270975}\n",
      "Classification CORRECT\n",
      "---------------------------------------------\n",
      "Data point: [-0.31034166 -0.53951   ]\n",
      "Label: A\n",
      "Assigned: A\n",
      "Probabilities {'A': 0.7418558005384961, 'B': 0.2581441994615039}\n",
      "Classification CORRECT\n",
      "---------------------------------------------\n",
      "Data point: [-0.82652554 -0.4336021 ]\n",
      "Label: B\n",
      "Assigned: B\n",
      "Probabilities {'A': 0.2518094772971762, 'B': 0.7481905227028238}\n",
      "Classification CORRECT\n",
      "---------------------------------------------\n",
      "Data point: [-0.73291597 -0.5064755 ]\n",
      "Label: B\n",
      "Assigned: B\n",
      "Probabilities {'A': 0.3215522263663727, 'B': 0.6784477736336273}\n",
      "Classification CORRECT\n",
      "---------------------------------------------\n",
      "Data point: [-0.90409716 -0.00762145]\n",
      "Label: B\n",
      "Assigned: B\n",
      "Probabilities {'A': 0.23997437714905717, 'B': 0.7600256228509428}\n",
      "Classification CORRECT\n",
      "---------------------------------------------\n",
      "Data point: [-0.7863327 -0.3957758]\n",
      "Label: B\n",
      "Assigned: B\n",
      "Probabilities {'A': 0.2852736893153693, 'B': 0.7147263106846307}\n",
      "Classification CORRECT\n",
      "---------------------------------------------\n",
      "Data point: [-0.53303533 -0.39673394]\n",
      "Label: B\n",
      "Assigned: A\n",
      "Probabilities {'A': 0.5250134514242725, 'B': 0.47498654857572753}\n",
      "Classification: INCORRECT\n",
      "---------------------------------------------\n",
      "Data point: [-0.60479708 -0.25758478]\n",
      "Label: B\n",
      "Assigned: B\n",
      "Probabilities {'A': 0.4701246437845036, 'B': 0.5298753562154964}\n",
      "Classification CORRECT\n",
      "---------------------------------------------\n",
      "Data point: [-0.50575853 -0.16951788]\n",
      "Label: B\n",
      "Assigned: A\n",
      "Probabilities {'A': 0.5877875783301958, 'B': 0.41221242166980415}\n",
      "Classification: INCORRECT\n",
      "---------------------------------------------\n",
      "Data point: [-0.97372645 -0.29405715]\n",
      "Label: B\n",
      "Assigned: B\n",
      "Probabilities {'A': 0.18410893649017407, 'B': 0.8158910635098259}\n",
      "Classification CORRECT\n",
      "---------------------------------------------\n",
      "Data point: [-0.65826859 -0.51310153]\n",
      "Label: B\n",
      "Assigned: B\n",
      "Probabilities {'A': 0.3898573178379107, 'B': 0.6101426821620893}\n",
      "Classification CORRECT\n",
      "---------------------------------------------\n",
      "Data point: [-0.78114482 -0.31921948]\n",
      "Label: B\n",
      "Assigned: B\n",
      "Probabilities {'A': 0.2992816891641382, 'B': 0.7007183108358617}\n",
      "Classification CORRECT\n",
      "\n",
      "90.0 % of test data was correctly classified\n"
     ]
    },
    {
     "data": {
      "image/png": "[encoded data removed]",
      "text/plain": [
       "<Figure size 432x288 with 1 Axes>"
      ]
     },
     "metadata": {
      "needs_background": "light"
     },
     "output_type": "display_data"
    }
   ],
   "source": [
    "test_label_0_x=[x[0] for x in test_input[class_labels[0]]]\n",
    "test_label_0_y=[x[1] for x in test_input[class_labels[0]]]\n",
    "test_label_1_x=[x[0] for x in test_input[class_labels[1]]]\n",
    "test_label_1_y=[x[1] for x in test_input[class_labels[1]]]\n",
    "\n",
    "test_label_misclassified_x=[]\n",
    "test_label_misclassified_y=[]\n",
    "\n",
    "for label, samples in test_input.items():\n",
    "    result=classify(samples, opt_params, class_labels)\n",
    "    for i, result in enumerate(result):\n",
    "        assigned_label=class_labels[np.argmax([p for p in result.values()])]\n",
    "        print('---------------------------------------------')\n",
    "        print('Data point:', samples[i])\n",
    "        print('Label:',label)\n",
    "        print('Assigned:', assigned_label)\n",
    "        print('Probabilities', result)\n",
    "        if label != assigned_label:\n",
    "            print('Classification:', 'INCORRECT')\n",
    "            test_label_misclassified_x += [samples[i][0]]\n",
    "            test_label_misclassified_y += [samples[i][1]]\n",
    "            \n",
    "        else:\n",
    "            print('Classification', 'CORRECT')\n",
    "            \n",
    "        \n",
    "total= len(test_label_0_x)+len(test_label_1_x)\n",
    "num_misclassified=len(test_label_misclassified_x)\n",
    "print()\n",
    "print(100*(1-num_misclassified/total), '% of test data was correctly classified')\n",
    "\n",
    "plt.figure()\n",
    "plt.scatter(test_label_0_x,test_label_0_y,c='b',label=class_labels[0],linewidth=5)\n",
    "plt.scatter(test_label_1_x,test_label_1_y,c='b',label=class_labels[1],linewidth=5, edgecolors='y')\n",
    "plt.scatter(test_label_misclassified_x, test_label_misclassified_y, linewidth=20, s=1, facecolors='none', edgecolors='r')\n",
    "plt.legend()\n",
    "plt.show()"
   ]
  },
  {
   "cell_type": "code",
   "execution_count": null,
   "metadata": {},
   "outputs": [],
   "source": []
  },
  {
   "cell_type": "code",
   "execution_count": null,
   "metadata": {},
   "outputs": [],
   "source": []
  },
  {
   "cell_type": "code",
   "execution_count": null,
   "metadata": {},
   "outputs": [],
   "source": []
  },
  {
   "cell_type": "code",
   "execution_count": null,
   "metadata": {},
   "outputs": [],
   "source": []
  }
 ],
 "metadata": {
  "kernelspec": {
   "display_name": "Python 3",
   "language": "python",
   "name": "python3"
  },
  "language_info": {
   "codemirror_mode": {
    "name": "ipython",
    "version": 3
   },
   "file_extension": ".py",
   "mimetype": "text/x-python",
   "name": "python",
   "nbconvert_exporter": "python",
   "pygments_lexer": "ipython3",
   "version": "3.8.3"
  }
 },
 "nbformat": 4,
 "nbformat_minor": 4
}
